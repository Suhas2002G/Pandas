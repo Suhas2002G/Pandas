{
 "cells": [
  {
   "cell_type": "code",
   "id": "initial_id",
   "metadata": {
    "collapsed": true,
    "ExecuteTime": {
     "end_time": "2025-09-05T17:14:57.019725Z",
     "start_time": "2025-09-05T17:14:57.011759Z"
    }
   },
   "source": [
    "# Two Sum\n",
    "# Problem: Given an array of integers, return indices of the two numbers such that they add up to a target.\n",
    "# Input: nums = [2,7,11,15], target = 9\n",
    "# Output: [0,1] (since 2 + 7 = 9)"
   ],
   "outputs": [],
   "execution_count": 1
  },
  {
   "metadata": {
    "ExecuteTime": {
     "end_time": "2025-09-05T17:22:20.086503Z",
     "start_time": "2025-09-05T17:22:20.076031Z"
    }
   },
   "cell_type": "code",
   "source": [
    "nums = [2, 7, 11, 15]\n",
    "target = 9\n",
    "seen = {}\n",
    "\n",
    "for i, num in enumerate(nums):\n",
    "    diff = target - num\n",
    "    if diff in seen:\n",
    "        print(seen[diff], i) # Found indices\n",
    "        break\n",
    "    seen[num] = i\n"
   ],
   "id": "71ecabca11ae16eb",
   "outputs": [
    {
     "name": "stdout",
     "output_type": "stream",
     "text": [
      "0 1\n"
     ]
    }
   ],
   "execution_count": 8
  },
  {
   "metadata": {
    "ExecuteTime": {
     "end_time": "2025-09-05T17:20:36.303227Z",
     "start_time": "2025-09-05T17:20:36.293468Z"
    }
   },
   "cell_type": "code",
   "source": [
    "nums = [2, 7, 11, 15]\n",
    "target = 9\n",
    "\n",
    "for i in range(len(nums)):\n",
    "    for j in range(i+1, len(nums)):  # avoid duplicate pairs\n",
    "        if nums[i] + nums[j] == target:\n",
    "            print(i, j)  # Found the pair\n",
    "            break\n"
   ],
   "id": "45915c8d5803e10e",
   "outputs": [
    {
     "name": "stdout",
     "output_type": "stream",
     "text": [
      "0 1\n"
     ]
    }
   ],
   "execution_count": 6
  },
  {
   "metadata": {
    "ExecuteTime": {
     "end_time": "2025-09-06T13:00:08.971625Z",
     "start_time": "2025-09-06T13:00:08.963276Z"
    }
   },
   "cell_type": "code",
   "source": [
    "import time\n",
    "\n",
    "class ComplexityAnalyzer:\n",
    "    @staticmethod\n",
    "    def measure_time(func, *args, **kwargs):\n",
    "        start = time.perf_counter()\n",
    "        result = func(*args, **kwargs)\n",
    "        end = time.perf_counter()\n",
    "        print(f\"Execution time: {end - start:.8f} seconds\")\n",
    "        return result\n"
   ],
   "id": "b398fe24d4e37123",
   "outputs": [],
   "execution_count": 20
  },
  {
   "metadata": {
    "ExecuteTime": {
     "end_time": "2025-09-06T13:02:10.077176Z",
     "start_time": "2025-09-06T13:01:28.427085Z"
    }
   },
   "cell_type": "code",
   "source": [
    "# Brute Force Two Sum\n",
    "def two_sum_bruteforce(nums, target):\n",
    "    for i in range(len(nums)):\n",
    "        for j in range(i+1, len(nums)):\n",
    "            if nums[i] + nums[j] == target:\n",
    "                return (i, j)\n",
    "    return None\n",
    "\n",
    "# Hashmap Two Sum\n",
    "def two_sum_hashmap(nums, target):\n",
    "    seen = {}\n",
    "    for i, num in enumerate(nums):\n",
    "        diff = target - num\n",
    "        if diff in seen:\n",
    "            return (seen[diff], i)\n",
    "        seen[num] = i\n",
    "    return None\n",
    "\n",
    "# nums = [2, 7, 11, 15]\n",
    "# target = 9\n",
    "\n",
    "nums = list(range(1, 100000))  # 10k numbers\n",
    "target = 109908\n",
    "\n",
    "print(\"Brute Force:\")\n",
    "ComplexityAnalyzer.measure_time(two_sum_bruteforce, nums, target)\n",
    "\n",
    "print(\"\\nHash Map:\")\n",
    "ComplexityAnalyzer.measure_time(two_sum_hashmap, nums, target)\n"
   ],
   "id": "bf6167e2810fa86e",
   "outputs": [
    {
     "name": "stdout",
     "output_type": "stream",
     "text": [
      "Brute Force:\n",
      "Execution time: 41.62842620 seconds\n",
      "\n",
      "Hash Map:\n",
      "Execution time: 0.00925330 seconds\n"
     ]
    },
    {
     "data": {
      "text/plain": [
       "(54952, 54954)"
      ]
     },
     "execution_count": 22,
     "metadata": {},
     "output_type": "execute_result"
    }
   ],
   "execution_count": 22
  },
  {
   "metadata": {
    "ExecuteTime": {
     "end_time": "2025-09-06T13:08:42.175116Z",
     "start_time": "2025-09-06T13:08:42.169103Z"
    }
   },
   "cell_type": "code",
   "source": [
    "lst = [2, 7, 11, 1, 15, 20]\n",
    "\n",
    "min(lst)"
   ],
   "id": "c18d1779985853ff",
   "outputs": [
    {
     "data": {
      "text/plain": [
       "1"
      ]
     },
     "execution_count": 31,
     "metadata": {},
     "output_type": "execute_result"
    }
   ],
   "execution_count": 31
  },
  {
   "metadata": {
    "ExecuteTime": {
     "end_time": "2025-09-06T13:08:52.202462Z",
     "start_time": "2025-09-06T13:08:52.196926Z"
    }
   },
   "cell_type": "code",
   "source": "max(lst)",
   "id": "b85aead43e8426ca",
   "outputs": [
    {
     "data": {
      "text/plain": [
       "20"
      ]
     },
     "execution_count": 32,
     "metadata": {},
     "output_type": "execute_result"
    }
   ],
   "execution_count": 32
  },
  {
   "metadata": {
    "ExecuteTime": {
     "end_time": "2025-09-06T13:08:57.784109Z",
     "start_time": "2025-09-06T13:08:57.778741Z"
    }
   },
   "cell_type": "code",
   "source": "sum(lst)",
   "id": "2342c13aa787bd8c",
   "outputs": [
    {
     "data": {
      "text/plain": [
       "56"
      ]
     },
     "execution_count": 33,
     "metadata": {},
     "output_type": "execute_result"
    }
   ],
   "execution_count": 33
  },
  {
   "metadata": {},
   "cell_type": "markdown",
   "source": "#### Pivot Index",
   "id": "1b49b0e2582eefa3"
  },
  {
   "metadata": {
    "ExecuteTime": {
     "end_time": "2025-09-06T14:08:13.281458Z",
     "start_time": "2025-09-06T14:08:13.270084Z"
    }
   },
   "cell_type": "code",
   "source": [
    "lst = [1,2,3,4,5,1]\n",
    "\n",
    "def find_pivot_idx(lst: list):\n",
    "    total = sum(lst)\n",
    "    left = 0\n",
    "    for i, ele in enumerate(lst):\n",
    "        right = total - left - ele\n",
    "        if right == left:\n",
    "            return i\n",
    "        left = left + ele\n",
    "    return -1\n",
    "\n",
    "\n",
    "lst = [1,2,3,4,5,1]\n",
    "print(find_pivot_idx(lst))\n",
    "\n"
   ],
   "id": "de405775db6f97a5",
   "outputs": [
    {
     "name": "stdout",
     "output_type": "stream",
     "text": [
      "3\n"
     ]
    }
   ],
   "execution_count": 40
  },
  {
   "metadata": {},
   "cell_type": "code",
   "outputs": [],
   "execution_count": null,
   "source": "",
   "id": "e27b226b2515beeb"
  }
 ],
 "metadata": {
  "kernelspec": {
   "display_name": "Python 3",
   "language": "python",
   "name": "python3"
  },
  "language_info": {
   "codemirror_mode": {
    "name": "ipython",
    "version": 2
   },
   "file_extension": ".py",
   "mimetype": "text/x-python",
   "name": "python",
   "nbconvert_exporter": "python",
   "pygments_lexer": "ipython2",
   "version": "2.7.6"
  }
 },
 "nbformat": 4,
 "nbformat_minor": 5
}
